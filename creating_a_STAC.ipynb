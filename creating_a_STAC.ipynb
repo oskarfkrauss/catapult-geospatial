{
 "cells": [
  {
   "cell_type": "markdown",
   "metadata": {},
   "source": [
    "# Creating a STAC using PySTAC\n",
    "\n",
    "Notebook going through the basic of creating a SpatioTemporal Asset Catalog using Python 3. Full details at are in the documentation for PySTAC \n",
    "\n",
    "## Install and load "
   ]
  },
  {
   "cell_type": "code",
   "execution_count": 6,
   "metadata": {},
   "outputs": [
    {
     "name": "stdout",
     "output_type": "stream",
     "text": [
      "Requirement already satisfied: pystac[validation] in /Users/oskarfkrauss/opt/anaconda3/lib/python3.8/site-packages (0.5.6)\n",
      "Requirement already satisfied: python-dateutil>=2.7.0 in /Users/oskarfkrauss/opt/anaconda3/lib/python3.8/site-packages (from pystac[validation]) (2.8.1)\n",
      "Requirement already satisfied: jsonschema==3.2.0 in /Users/oskarfkrauss/opt/anaconda3/lib/python3.8/site-packages (from pystac[validation]) (3.2.0)\n",
      "Requirement already satisfied: attrs>=17.4.0 in /Users/oskarfkrauss/opt/anaconda3/lib/python3.8/site-packages (from jsonschema==3.2.0->pystac[validation]) (19.3.0)\n",
      "Requirement already satisfied: pyrsistent>=0.14.0 in /Users/oskarfkrauss/opt/anaconda3/lib/python3.8/site-packages (from jsonschema==3.2.0->pystac[validation]) (0.16.0)\n",
      "Requirement already satisfied: setuptools in /Users/oskarfkrauss/opt/anaconda3/lib/python3.8/site-packages (from jsonschema==3.2.0->pystac[validation]) (49.2.0.post20200714)\n",
      "Requirement already satisfied: six>=1.11.0 in /Users/oskarfkrauss/opt/anaconda3/lib/python3.8/site-packages (from jsonschema==3.2.0->pystac[validation]) (1.15.0)\n",
      "\u001b[33mWARNING: You are using pip version 21.0.1; however, version 21.1.2 is available.\n",
      "You should consider upgrading via the '/Users/oskarfkrauss/opt/anaconda3/bin/python -m pip install --upgrade pip' command.\u001b[0m\n",
      "Note: you may need to restart the kernel to use updated packages.\n"
     ]
    }
   ],
   "source": [
    "pip install pystac[validation] # install pystac"
   ]
  },
  {
   "cell_type": "code",
   "execution_count": 10,
   "metadata": {},
   "outputs": [],
   "source": [
    "import pystac"
   ]
  },
  {
   "cell_type": "markdown",
   "metadata": {},
   "source": [
    "## Obtain data and metadata "
   ]
  },
  {
   "cell_type": "code",
   "execution_count": 1,
   "metadata": {},
   "outputs": [],
   "source": [
    "import csv\n",
    "import gzip\n",
    "from io import StringIO\n",
    "from urllib.request import urlopen\n",
    "\n",
    "# Collection 1 data\n",
    "url = 'https://landsat-pds.s3.amazonaws.com/c1/L8/scene_list.gz'\n",
    "\n",
    "# Read and unzip the content\n",
    "response = urlopen(url)\n",
    "gunzip_response = gzip.GzipFile(fileobj=response)\n",
    "content = gunzip_response.read()\n",
    "\n",
    "# Read the scenes in as dictionaries\n",
    "scenes = list(csv.DictReader(StringIO(content.decode(\"utf-8\"))))"
   ]
  },
  {
   "cell_type": "code",
   "execution_count": 2,
   "metadata": {},
   "outputs": [
    {
     "data": {
      "text/plain": [
       "2356735"
      ]
     },
     "execution_count": 2,
     "metadata": {},
     "output_type": "execute_result"
    }
   ],
   "source": [
    "len(scenes) # lots of them!"
   ]
  },
  {
   "cell_type": "code",
   "execution_count": 3,
   "metadata": {},
   "outputs": [
    {
     "data": {
      "text/plain": [
       "{'productId': 'LC08_L1TP_149039_20170411_20170415_01_T1',\n",
       " 'entityId': 'LC81490392017101LGN00',\n",
       " 'acquisitionDate': '2017-04-11 05:36:29.349932',\n",
       " 'cloudCover': '0.0',\n",
       " 'processingLevel': 'L1TP',\n",
       " 'path': '149',\n",
       " 'row': '39',\n",
       " 'min_lat': '29.22165',\n",
       " 'min_lon': '72.41205',\n",
       " 'max_lat': '31.34742',\n",
       " 'max_lon': '74.84666',\n",
       " 'download_url': 'https://s3-us-west-2.amazonaws.com/landsat-pds/c1/L8/149/039/LC08_L1TP_149039_20170411_20170415_01_T1/index.html'}"
      ]
     },
     "execution_count": 3,
     "metadata": {},
     "output_type": "execute_result"
    }
   ],
   "source": [
    "scenes[0] # look at what scenes are"
   ]
  },
  {
   "cell_type": "markdown",
   "metadata": {},
   "source": [
    "Filter to ones which contain a certain location"
   ]
  },
  {
   "cell_type": "code",
   "execution_count": 4,
   "metadata": {},
   "outputs": [],
   "source": [
    "lat, lon = 55.9422, -3.1823\n",
    "location_name = \"Edinburgh Flat\"\n",
    "filter_year = '2020'"
   ]
  },
  {
   "cell_type": "code",
   "execution_count": 5,
   "metadata": {},
   "outputs": [],
   "source": [
    "def keep_scene(scene): # function that does the filtering\n",
    "    contains_location = float(scene['min_lat']) < lat and float(scene['max_lat']) > lat and \\\n",
    "                        float(scene['min_lon']) < lon and float(scene['max_lon']) > lon\n",
    "    is_correct_year = '{}-'.format(filter_year) in scene['acquisitionDate']\n",
    "    return contains_location and is_correct_year\n",
    "        \n",
    "location_scenes = [scene for scene in scenes if keep_scene(scene)]"
   ]
  },
  {
   "cell_type": "code",
   "execution_count": 6,
   "metadata": {},
   "outputs": [
    {
     "data": {
      "text/plain": [
       "58"
      ]
     },
     "execution_count": 6,
     "metadata": {},
     "output_type": "execute_result"
    }
   ],
   "source": [
    "len(location_scenes) # fewer of them, woop"
   ]
  },
  {
   "cell_type": "code",
   "execution_count": 7,
   "metadata": {},
   "outputs": [
    {
     "data": {
      "text/plain": [
       "{'productId': 'LC08_L1GT_205021_20200106_20200106_01_RT',\n",
       " 'entityId': 'LC82050212020006LGN00',\n",
       " 'acquisitionDate': '2020-01-06 11:16:07.471447',\n",
       " 'cloudCover': '94.11',\n",
       " 'processingLevel': 'L1GT',\n",
       " 'path': '205',\n",
       " 'row': '21',\n",
       " 'min_lat': '54.78572',\n",
       " 'min_lon': '-5.63922',\n",
       " 'max_lat': '56.97768',\n",
       " 'max_lon': '-1.73361',\n",
       " 'download_url': 'https://s3-us-west-2.amazonaws.com/landsat-pds/c1/L8/205/021/LC08_L1GT_205021_20200106_20200106_01_RT/index.html'}"
      ]
     },
     "execution_count": 7,
     "metadata": {},
     "output_type": "execute_result"
    }
   ],
   "source": [
    "scene = location_scenes[0]\n",
    "scene"
   ]
  },
  {
   "cell_type": "markdown",
   "metadata": {},
   "source": [
    "Now extract metadata (additional data about scenes) from MTL file. This file is alongside the `download_url` and so we need a funciton to extract necessary pieces (from scenes) and then retrive MTL. "
   ]
  },
  {
   "cell_type": "code",
   "execution_count": 8,
   "metadata": {},
   "outputs": [],
   "source": [
    "def get_asset_url(scene, suffix):\n",
    "    product_id = scene['productId']\n",
    "    download_url = scene['download_url']    \n",
    "    asset_filename = '{}_{}'.format(product_id, suffix)\n",
    "    return download_url.replace('index.html', asset_filename)"
   ]
  },
  {
   "cell_type": "markdown",
   "metadata": {},
   "source": [
    "Now read url"
   ]
  },
  {
   "cell_type": "code",
   "execution_count": 11,
   "metadata": {},
   "outputs": [
    {
     "name": "stdout",
     "output_type": "stream",
     "text": [
      "GROUP = L1_METADATA_FILE\n",
      "  GROUP = METADATA_FILE_INFO\n",
      "    ORIGIN = \"Image courtesy of the U.S. Geological Survey\"\n",
      "    REQUEST_ID = \"0502001063447_00003\"\n",
      "    LANDSAT_SCENE_ID = \"LC82050212020006LGN00\"\n",
      "    LANDSAT_PRODUCT_ID = \"LC08_L1GT_205021_20200106_20200106_01_RT\"\n",
      "    COLLECTION_NUMBER = 01\n",
      "    FILE_DATE = 2020-01-06T15:25:28Z\n",
      "    STATION_ID = \"LGN\"\n",
      "    PROCESSING_SOFTWARE_VERSION = \"LPGS_13.1.0\"\n",
      "  END_GROUP = METADATA_FILE_INFO\n",
      "  GROUP = PRODUCT_METADATA\n",
      "    DATA_TYPE = \"L1GT\"\n",
      "    COLLECTION_CATEGORY = \"RT\"\n",
      "    ELEVATION_SOURCE = \"GLS2000\"\n",
      "    OUTPUT_FORMAT = \"GEOTIFF\"\n",
      "    SPACECRAFT_ID = \"LANDSAT_8\"\n",
      "    SENSOR_ID = \"OLI_TIRS\"\n",
      "    WRS_PATH = 205\n",
      "    WRS_ROW = 21\n",
      "    NADIR_OFFNADIR = \"NADIR\"\n",
      "    TARGET_WRS_PATH = 205\n",
      "    TARGET_WRS_ROW = 21\n",
      "    DATE_ACQUIRED = 2020-01-06\n",
      "    SCENE_CENTER_TIME = \"11:16:07.4714479Z\"\n",
      "    CORNER_UL_LAT_PRODUCT = 56.97768\n",
      "    CORNER_UL_LON_PRODUCT = -5.63922\n",
      "    CORNER_UR_LAT_PRODUCT = 56.99834\n",
      "    CORNER_UR_LON_PRODUCT = -1.66005\n",
      "    CORNER_LL_LAT_PRODUCT = 54.78572\n",
      "    CORNER_LL_LON_PRODUCT = -5.49447\n",
      "    CORNER_LR_LAT_PRODUCT = 54.80475\n",
      "    CORNER_LR_LON_PRODUCT = -1.73361\n",
      "    CORNER_UL_PROJECTION_X_PRODUCT = 339600.000\n",
      "    CORNER_UL_PROJECTION_Y_PRODUCT = 6318000.000\n",
      "    CORNER_UR_PROJECTION_X_PRODUCT = 581400.000\n",
      "    CORNER_UR_PROJECTION_Y_PRODUCT = 6318000.000\n",
      "    CORNER_LL_PROJECTION_X_PRODUCT = 339600.000\n",
      "    CORNER_LL_PROJECTION_Y_PRODUCT = 6073800.000\n",
      "    CORNER_LR_PROJECTION_X_PRODUCT = 581400.000\n",
      "    CORNER_LR_PROJECTION_Y_PRODUCT = 6073800.000\n",
      "    PANCHROMATIC_LINES = 16281\n",
      "    PANCHROMATIC_SAMPLES = 16121\n",
      "    REFLECTIVE_LINES = 8141\n",
      "    REFLECTIVE_SAMPLES = 8061\n",
      "    THERMAL_LINES = 8141\n",
      "    THERMAL_SAMPLES = 8061\n",
      "    FILE_NAME_BAND_1 = \"LC08_L1GT_205021_20200106_20200106_01_RT_B1.TIF\"\n",
      "    FILE_NAME_BAND_2 = \"LC08_L1GT_205021_20200106_20200106_01_RT_B2.TIF\"\n",
      "    FILE_NAME_BAND_3 = \"LC08_L1GT_205021_20200106_20200106_01_RT_B3.TIF\"\n",
      "    FILE_NAME_BAND_4 = \"LC08_L1GT_205021_20200106_20200106_01_RT_B4.TIF\"\n",
      "    FILE_NAME_BAND_5 = \"LC08_L1GT_205021_20200106_20200106_01_RT_B5.TIF\"\n",
      "    FILE_NAME_BAND_6 = \"LC08_L1GT_205021_20200106_20200106_01_RT_B6.TIF\"\n",
      "    FILE_NAME_BAND_7 = \"LC08_L1GT_205021_20200106_20200106_01_RT_B7.TIF\"\n",
      "    FILE_NAME_BAND_8 = \"LC08_L1GT_205021_20200106_20200106_01_RT_B8.TIF\"\n",
      "    FILE_NAME_BAND_9 = \"LC08_L1GT_205021_20200106_20200106_01_RT_B9.TIF\"\n",
      "    FILE_NAME_BAND_10 = \"LC08_L1GT_205021_20200106_20200106_01_RT_B10.TIF\"\n",
      "    FILE_NAME_BAND_11 = \"LC08_L1GT_205021_20200106_20200106_01_RT_B11.TIF\"\n",
      "    FILE_NAME_BAND_QUALITY = \"LC08_L1GT_205021_20200106_20200106_01_RT_BQA.TIF\"\n",
      "    ANGLE_COEFFICIENT_FILE_NAME = \"LC08_L1GT_205021_20200106_20200106_01_RT_ANG.txt\"\n",
      "    METADATA_FILE_NAME = \"LC08_L1GT_205021_20200106_20200106_01_RT_MTL.txt\"\n",
      "    CPF_NAME = \"LC08CPF_20200101_20200331_01.02\"\n",
      "    BPF_NAME_OLI = \"LO8BPF20200106101828_20200106111329.01\"\n",
      "    BPF_NAME_TIRS = \"LT8BPF20200101032539_20200101033839.01\"\n",
      "    RLUT_FILE_NAME = \"LC08RLUT_20150303_20431231_01_12.h5\"\n",
      "  END_GROUP = PRODUCT_METADATA\n",
      "  GROUP = IMAGE_ATTRIBUTES\n",
      "    CLOUD_COVER = 94.11\n",
      "    CLOUD_COVER_LAND = 93.68\n",
      "    IMAGE_QUALITY_OLI = 9\n",
      "    IMAGE_QUALITY_TIRS = 7\n",
      "    TIRS_SSM_MODEL = \"PRELIMINARY\"\n",
      "    TIRS_SSM_POSITION_STATUS = \"ESTIMATED\"\n",
      "    TIRS_STRAY_LIGHT_CORRECTION_SOURCE = \"TIRS\"\n",
      "    ROLL_ANGLE = -0.001\n",
      "    SUN_AZIMUTH = 164.99895314\n",
      "    SUN_ELEVATION = 10.38957221\n",
      "    EARTH_SUN_DISTANCE = 0.9832473\n",
      "    SATURATION_BAND_1 = \"N\"\n",
      "    SATURATION_BAND_2 = \"N\"\n",
      "    SATURATION_BAND_3 = \"N\"\n",
      "    SATURATION_BAND_4 = \"N\"\n",
      "    SATURATION_BAND_5 = \"N\"\n",
      "    SATURATION_BAND_6 = \"N\"\n",
      "    SATURATION_BAND_7 = \"N\"\n",
      "    SATURATION_BAND_8 = \"N\"\n",
      "    SATURATION_BAND_9 = \"N\"\n",
      "    TRUNCATION_OLI = \"UPPER\"\n",
      "  END_GROUP = IMAGE_ATTRIBUTES\n",
      "  GROUP = MIN_MAX_RADIANCE\n",
      "    RADIANCE_MAXIMUM_BAND_1 = 786.18341\n",
      "    RADIANCE_MINIMUM_BAND_1 = -64.92328\n",
      "    RADIANCE_MAXIMUM_BAND_2 = 805.06134\n",
      "    RADIANCE_MINIMUM_BAND_2 = -66.48223\n",
      "    RADIANCE_MAXIMUM_BAND_3 = 741.85718\n",
      "    RADIANCE_MINIMUM_BAND_3 = -61.26281\n",
      "    RADIANCE_MAXIMUM_BAND_4 = 625.57574\n",
      "    RADIANCE_MINIMUM_BAND_4 = -51.66025\n",
      "    RADIANCE_MAXIMUM_BAND_5 = 382.82117\n",
      "    RADIANCE_MINIMUM_BAND_5 = -31.61350\n",
      "    RADIANCE_MAXIMUM_BAND_6 = 95.20414\n",
      "    RADIANCE_MINIMUM_BAND_6 = -7.86199\n",
      "    RADIANCE_MAXIMUM_BAND_7 = 32.08889\n",
      "    RADIANCE_MINIMUM_BAND_7 = -2.64991\n",
      "    RADIANCE_MAXIMUM_BAND_8 = 707.97961\n",
      "    RADIANCE_MINIMUM_BAND_8 = -58.46519\n",
      "    RADIANCE_MAXIMUM_BAND_9 = 149.61519\n",
      "    RADIANCE_MINIMUM_BAND_9 = -12.35527\n",
      "    RADIANCE_MAXIMUM_BAND_10 = 22.00180\n",
      "    RADIANCE_MINIMUM_BAND_10 = 0.10033\n",
      "    RADIANCE_MAXIMUM_BAND_11 = 22.00180\n",
      "    RADIANCE_MINIMUM_BAND_11 = 0.10033\n",
      "  END_GROUP = MIN_MAX_RADIANCE\n",
      "  GROUP = MIN_MAX_REFLECTANCE\n",
      "    REFLECTANCE_MAXIMUM_BAND_1 = 1.210700\n",
      "    REFLECTANCE_MINIMUM_BAND_1 = -0.099980\n",
      "    REFLECTANCE_MAXIMUM_BAND_2 = 1.210700\n",
      "    REFLECTANCE_MINIMUM_BAND_2 = -0.099980\n",
      "    REFLECTANCE_MAXIMUM_BAND_3 = 1.210700\n",
      "    REFLECTANCE_MINIMUM_BAND_3 = -0.099980\n",
      "    REFLECTANCE_MAXIMUM_BAND_4 = 1.210700\n",
      "    REFLECTANCE_MINIMUM_BAND_4 = -0.099980\n",
      "    REFLECTANCE_MAXIMUM_BAND_5 = 1.210700\n",
      "    REFLECTANCE_MINIMUM_BAND_5 = -0.099980\n",
      "    REFLECTANCE_MAXIMUM_BAND_6 = 1.210700\n",
      "    REFLECTANCE_MINIMUM_BAND_6 = -0.099980\n",
      "    REFLECTANCE_MAXIMUM_BAND_7 = 1.210700\n",
      "    REFLECTANCE_MINIMUM_BAND_7 = -0.099980\n",
      "    REFLECTANCE_MAXIMUM_BAND_8 = 1.210700\n",
      "    REFLECTANCE_MINIMUM_BAND_8 = -0.099980\n",
      "    REFLECTANCE_MAXIMUM_BAND_9 = 1.210700\n",
      "    REFLECTANCE_MINIMUM_BAND_9 = -0.099980\n",
      "  END_GROUP = MIN_MAX_REFLECTANCE\n",
      "  GROUP = MIN_MAX_PIXEL_VALUE\n",
      "    QUANTIZE_CAL_MAX_BAND_1 = 65535\n",
      "    QUANTIZE_CAL_MIN_BAND_1 = 1\n",
      "    QUANTIZE_CAL_MAX_BAND_2 = 65535\n",
      "    QUANTIZE_CAL_MIN_BAND_2 = 1\n",
      "    QUANTIZE_CAL_MAX_BAND_3 = 65535\n",
      "    QUANTIZE_CAL_MIN_BAND_3 = 1\n",
      "    QUANTIZE_CAL_MAX_BAND_4 = 65535\n",
      "    QUANTIZE_CAL_MIN_BAND_4 = 1\n",
      "    QUANTIZE_CAL_MAX_BAND_5 = 65535\n",
      "    QUANTIZE_CAL_MIN_BAND_5 = 1\n",
      "    QUANTIZE_CAL_MAX_BAND_6 = 65535\n",
      "    QUANTIZE_CAL_MIN_BAND_6 = 1\n",
      "    QUANTIZE_CAL_MAX_BAND_7 = 65535\n",
      "    QUANTIZE_CAL_MIN_BAND_7 = 1\n",
      "    QUANTIZE_CAL_MAX_BAND_8 = 65535\n",
      "    QUANTIZE_CAL_MIN_BAND_8 = 1\n",
      "    QUANTIZE_CAL_MAX_BAND_9 = 65535\n",
      "    QUANTIZE_CAL_MIN_BAND_9 = 1\n",
      "    QUANTIZE_CAL_MAX_BAND_10 = 65535\n",
      "    QUANTIZE_CAL_MIN_BAND_10 = 1\n",
      "    QUANTIZE_CAL_MAX_BAND_11 = 65535\n",
      "    QUANTIZE_CAL_MIN_BAND_11 = 1\n",
      "  END_GROUP = MIN_MAX_PIXEL_VALUE\n",
      "  GROUP = RADIOMETRIC_RESCALING\n",
      "    RADIANCE_MULT_BAND_1 = 1.2987E-02\n",
      "    RADIANCE_MULT_BAND_2 = 1.3299E-02\n",
      "    RADIANCE_MULT_BAND_3 = 1.2255E-02\n",
      "    RADIANCE_MULT_BAND_4 = 1.0334E-02\n",
      "    RADIANCE_MULT_BAND_5 = 6.3240E-03\n",
      "    RADIANCE_MULT_BAND_6 = 1.5727E-03\n",
      "    RADIANCE_MULT_BAND_7 = 5.3009E-04\n",
      "    RADIANCE_MULT_BAND_8 = 1.1695E-02\n",
      "    RADIANCE_MULT_BAND_9 = 2.4715E-03\n",
      "    RADIANCE_MULT_BAND_10 = 3.3420E-04\n",
      "    RADIANCE_MULT_BAND_11 = 3.3420E-04\n",
      "    RADIANCE_ADD_BAND_1 = -64.93627\n",
      "    RADIANCE_ADD_BAND_2 = -66.49553\n",
      "    RADIANCE_ADD_BAND_3 = -61.27506\n",
      "    RADIANCE_ADD_BAND_4 = -51.67058\n",
      "    RADIANCE_ADD_BAND_5 = -31.61982\n",
      "    RADIANCE_ADD_BAND_6 = -7.86356\n",
      "    RADIANCE_ADD_BAND_7 = -2.65044\n",
      "    RADIANCE_ADD_BAND_8 = -58.47688\n",
      "    RADIANCE_ADD_BAND_9 = -12.35774\n",
      "    RADIANCE_ADD_BAND_10 = 0.10000\n",
      "    RADIANCE_ADD_BAND_11 = 0.10000\n",
      "    REFLECTANCE_MULT_BAND_1 = 2.0000E-05\n",
      "    REFLECTANCE_MULT_BAND_2 = 2.0000E-05\n",
      "    REFLECTANCE_MULT_BAND_3 = 2.0000E-05\n",
      "    REFLECTANCE_MULT_BAND_4 = 2.0000E-05\n",
      "    REFLECTANCE_MULT_BAND_5 = 2.0000E-05\n",
      "    REFLECTANCE_MULT_BAND_6 = 2.0000E-05\n",
      "    REFLECTANCE_MULT_BAND_7 = 2.0000E-05\n",
      "    REFLECTANCE_MULT_BAND_8 = 2.0000E-05\n",
      "    REFLECTANCE_MULT_BAND_9 = 2.0000E-05\n",
      "    REFLECTANCE_ADD_BAND_1 = -0.100000\n",
      "    REFLECTANCE_ADD_BAND_2 = -0.100000\n",
      "    REFLECTANCE_ADD_BAND_3 = -0.100000\n",
      "    REFLECTANCE_ADD_BAND_4 = -0.100000\n",
      "    REFLECTANCE_ADD_BAND_5 = -0.100000\n",
      "    REFLECTANCE_ADD_BAND_6 = -0.100000\n",
      "    REFLECTANCE_ADD_BAND_7 = -0.100000\n",
      "    REFLECTANCE_ADD_BAND_8 = -0.100000\n",
      "    REFLECTANCE_ADD_BAND_9 = -0.100000\n",
      "  END_GROUP = RADIOMETRIC_RESCALING\n",
      "  GROUP = TIRS_THERMAL_CONSTANTS\n",
      "    K1_CONSTANT_BAND_10 = 774.8853\n",
      "    K2_CONSTANT_BAND_10 = 1321.0789\n",
      "    K1_CONSTANT_BAND_11 = 480.8883\n",
      "    K2_CONSTANT_BAND_11 = 1201.1442\n",
      "  END_GROUP = TIRS_THERMAL_CONSTANTS\n",
      "  GROUP = PROJECTION_PARAMETERS\n",
      "    MAP_PROJECTION = \"UTM\"\n",
      "    DATUM = \"WGS84\"\n",
      "    ELLIPSOID = \"WGS84\"\n",
      "    UTM_ZONE = 30\n",
      "    GRID_CELL_SIZE_PANCHROMATIC = 15.00\n",
      "    GRID_CELL_SIZE_REFLECTIVE = 30.00\n",
      "    GRID_CELL_SIZE_THERMAL = 30.00\n",
      "    ORIENTATION = \"NORTH_UP\"\n",
      "    RESAMPLING_OPTION = \"CUBIC_CONVOLUTION\"\n",
      "  END_GROUP = PROJECTION_PARAMETERS\n",
      "END_GROUP = L1_METADATA_FILE\n",
      "END\n",
      "\n"
     ]
    }
   ],
   "source": [
    "mtl_url = get_asset_url(scene, 'MTL.txt')\n",
    "print(pystac.STAC_IO.read_text(mtl_url))"
   ]
  },
  {
   "cell_type": "code",
   "execution_count": 12,
   "metadata": {},
   "outputs": [],
   "source": [
    "def get_metadata(url):\n",
    "    \"\"\" Convert Landsat MTL file to dictionary of metadata values \"\"\"\n",
    "    mtl = {}\n",
    "    mtl_text = pystac.STAC_IO.read_text(url)\n",
    "    for line in mtl_text.split('\\n'):\n",
    "        meta = line.replace('\\\"', \"\").strip().split('=')\n",
    "        if len(meta) > 1:\n",
    "            key = meta[0].strip()\n",
    "            item = meta[1].strip()\n",
    "            if key != \"GROUP\" and key != \"END_GROUP\":\n",
    "                mtl[key] = item\n",
    "    return mtl\n"
   ]
  },
  {
   "cell_type": "code",
   "execution_count": 13,
   "metadata": {},
   "outputs": [
    {
     "data": {
      "text/plain": [
       "{'ORIGIN': 'Image courtesy of the U.S. Geological Survey',\n",
       " 'REQUEST_ID': '0502001063447_00003',\n",
       " 'LANDSAT_SCENE_ID': 'LC82050212020006LGN00',\n",
       " 'LANDSAT_PRODUCT_ID': 'LC08_L1GT_205021_20200106_20200106_01_RT',\n",
       " 'COLLECTION_NUMBER': '01',\n",
       " 'FILE_DATE': '2020-01-06T15:25:28Z',\n",
       " 'STATION_ID': 'LGN',\n",
       " 'PROCESSING_SOFTWARE_VERSION': 'LPGS_13.1.0',\n",
       " 'DATA_TYPE': 'L1GT',\n",
       " 'COLLECTION_CATEGORY': 'RT',\n",
       " 'ELEVATION_SOURCE': 'GLS2000',\n",
       " 'OUTPUT_FORMAT': 'GEOTIFF',\n",
       " 'SPACECRAFT_ID': 'LANDSAT_8',\n",
       " 'SENSOR_ID': 'OLI_TIRS',\n",
       " 'WRS_PATH': '205',\n",
       " 'WRS_ROW': '21',\n",
       " 'NADIR_OFFNADIR': 'NADIR',\n",
       " 'TARGET_WRS_PATH': '205',\n",
       " 'TARGET_WRS_ROW': '21',\n",
       " 'DATE_ACQUIRED': '2020-01-06',\n",
       " 'SCENE_CENTER_TIME': '11:16:07.4714479Z',\n",
       " 'CORNER_UL_LAT_PRODUCT': '56.97768',\n",
       " 'CORNER_UL_LON_PRODUCT': '-5.63922',\n",
       " 'CORNER_UR_LAT_PRODUCT': '56.99834',\n",
       " 'CORNER_UR_LON_PRODUCT': '-1.66005',\n",
       " 'CORNER_LL_LAT_PRODUCT': '54.78572',\n",
       " 'CORNER_LL_LON_PRODUCT': '-5.49447',\n",
       " 'CORNER_LR_LAT_PRODUCT': '54.80475',\n",
       " 'CORNER_LR_LON_PRODUCT': '-1.73361',\n",
       " 'CORNER_UL_PROJECTION_X_PRODUCT': '339600.000',\n",
       " 'CORNER_UL_PROJECTION_Y_PRODUCT': '6318000.000',\n",
       " 'CORNER_UR_PROJECTION_X_PRODUCT': '581400.000',\n",
       " 'CORNER_UR_PROJECTION_Y_PRODUCT': '6318000.000',\n",
       " 'CORNER_LL_PROJECTION_X_PRODUCT': '339600.000',\n",
       " 'CORNER_LL_PROJECTION_Y_PRODUCT': '6073800.000',\n",
       " 'CORNER_LR_PROJECTION_X_PRODUCT': '581400.000',\n",
       " 'CORNER_LR_PROJECTION_Y_PRODUCT': '6073800.000',\n",
       " 'PANCHROMATIC_LINES': '16281',\n",
       " 'PANCHROMATIC_SAMPLES': '16121',\n",
       " 'REFLECTIVE_LINES': '8141',\n",
       " 'REFLECTIVE_SAMPLES': '8061',\n",
       " 'THERMAL_LINES': '8141',\n",
       " 'THERMAL_SAMPLES': '8061',\n",
       " 'FILE_NAME_BAND_1': 'LC08_L1GT_205021_20200106_20200106_01_RT_B1.TIF',\n",
       " 'FILE_NAME_BAND_2': 'LC08_L1GT_205021_20200106_20200106_01_RT_B2.TIF',\n",
       " 'FILE_NAME_BAND_3': 'LC08_L1GT_205021_20200106_20200106_01_RT_B3.TIF',\n",
       " 'FILE_NAME_BAND_4': 'LC08_L1GT_205021_20200106_20200106_01_RT_B4.TIF',\n",
       " 'FILE_NAME_BAND_5': 'LC08_L1GT_205021_20200106_20200106_01_RT_B5.TIF',\n",
       " 'FILE_NAME_BAND_6': 'LC08_L1GT_205021_20200106_20200106_01_RT_B6.TIF',\n",
       " 'FILE_NAME_BAND_7': 'LC08_L1GT_205021_20200106_20200106_01_RT_B7.TIF',\n",
       " 'FILE_NAME_BAND_8': 'LC08_L1GT_205021_20200106_20200106_01_RT_B8.TIF',\n",
       " 'FILE_NAME_BAND_9': 'LC08_L1GT_205021_20200106_20200106_01_RT_B9.TIF',\n",
       " 'FILE_NAME_BAND_10': 'LC08_L1GT_205021_20200106_20200106_01_RT_B10.TIF',\n",
       " 'FILE_NAME_BAND_11': 'LC08_L1GT_205021_20200106_20200106_01_RT_B11.TIF',\n",
       " 'FILE_NAME_BAND_QUALITY': 'LC08_L1GT_205021_20200106_20200106_01_RT_BQA.TIF',\n",
       " 'ANGLE_COEFFICIENT_FILE_NAME': 'LC08_L1GT_205021_20200106_20200106_01_RT_ANG.txt',\n",
       " 'METADATA_FILE_NAME': 'LC08_L1GT_205021_20200106_20200106_01_RT_MTL.txt',\n",
       " 'CPF_NAME': 'LC08CPF_20200101_20200331_01.02',\n",
       " 'BPF_NAME_OLI': 'LO8BPF20200106101828_20200106111329.01',\n",
       " 'BPF_NAME_TIRS': 'LT8BPF20200101032539_20200101033839.01',\n",
       " 'RLUT_FILE_NAME': 'LC08RLUT_20150303_20431231_01_12.h5',\n",
       " 'CLOUD_COVER': '94.11',\n",
       " 'CLOUD_COVER_LAND': '93.68',\n",
       " 'IMAGE_QUALITY_OLI': '9',\n",
       " 'IMAGE_QUALITY_TIRS': '7',\n",
       " 'TIRS_SSM_MODEL': 'PRELIMINARY',\n",
       " 'TIRS_SSM_POSITION_STATUS': 'ESTIMATED',\n",
       " 'TIRS_STRAY_LIGHT_CORRECTION_SOURCE': 'TIRS',\n",
       " 'ROLL_ANGLE': '-0.001',\n",
       " 'SUN_AZIMUTH': '164.99895314',\n",
       " 'SUN_ELEVATION': '10.38957221',\n",
       " 'EARTH_SUN_DISTANCE': '0.9832473',\n",
       " 'SATURATION_BAND_1': 'N',\n",
       " 'SATURATION_BAND_2': 'N',\n",
       " 'SATURATION_BAND_3': 'N',\n",
       " 'SATURATION_BAND_4': 'N',\n",
       " 'SATURATION_BAND_5': 'N',\n",
       " 'SATURATION_BAND_6': 'N',\n",
       " 'SATURATION_BAND_7': 'N',\n",
       " 'SATURATION_BAND_8': 'N',\n",
       " 'SATURATION_BAND_9': 'N',\n",
       " 'TRUNCATION_OLI': 'UPPER',\n",
       " 'RADIANCE_MAXIMUM_BAND_1': '786.18341',\n",
       " 'RADIANCE_MINIMUM_BAND_1': '-64.92328',\n",
       " 'RADIANCE_MAXIMUM_BAND_2': '805.06134',\n",
       " 'RADIANCE_MINIMUM_BAND_2': '-66.48223',\n",
       " 'RADIANCE_MAXIMUM_BAND_3': '741.85718',\n",
       " 'RADIANCE_MINIMUM_BAND_3': '-61.26281',\n",
       " 'RADIANCE_MAXIMUM_BAND_4': '625.57574',\n",
       " 'RADIANCE_MINIMUM_BAND_4': '-51.66025',\n",
       " 'RADIANCE_MAXIMUM_BAND_5': '382.82117',\n",
       " 'RADIANCE_MINIMUM_BAND_5': '-31.61350',\n",
       " 'RADIANCE_MAXIMUM_BAND_6': '95.20414',\n",
       " 'RADIANCE_MINIMUM_BAND_6': '-7.86199',\n",
       " 'RADIANCE_MAXIMUM_BAND_7': '32.08889',\n",
       " 'RADIANCE_MINIMUM_BAND_7': '-2.64991',\n",
       " 'RADIANCE_MAXIMUM_BAND_8': '707.97961',\n",
       " 'RADIANCE_MINIMUM_BAND_8': '-58.46519',\n",
       " 'RADIANCE_MAXIMUM_BAND_9': '149.61519',\n",
       " 'RADIANCE_MINIMUM_BAND_9': '-12.35527',\n",
       " 'RADIANCE_MAXIMUM_BAND_10': '22.00180',\n",
       " 'RADIANCE_MINIMUM_BAND_10': '0.10033',\n",
       " 'RADIANCE_MAXIMUM_BAND_11': '22.00180',\n",
       " 'RADIANCE_MINIMUM_BAND_11': '0.10033',\n",
       " 'REFLECTANCE_MAXIMUM_BAND_1': '1.210700',\n",
       " 'REFLECTANCE_MINIMUM_BAND_1': '-0.099980',\n",
       " 'REFLECTANCE_MAXIMUM_BAND_2': '1.210700',\n",
       " 'REFLECTANCE_MINIMUM_BAND_2': '-0.099980',\n",
       " 'REFLECTANCE_MAXIMUM_BAND_3': '1.210700',\n",
       " 'REFLECTANCE_MINIMUM_BAND_3': '-0.099980',\n",
       " 'REFLECTANCE_MAXIMUM_BAND_4': '1.210700',\n",
       " 'REFLECTANCE_MINIMUM_BAND_4': '-0.099980',\n",
       " 'REFLECTANCE_MAXIMUM_BAND_5': '1.210700',\n",
       " 'REFLECTANCE_MINIMUM_BAND_5': '-0.099980',\n",
       " 'REFLECTANCE_MAXIMUM_BAND_6': '1.210700',\n",
       " 'REFLECTANCE_MINIMUM_BAND_6': '-0.099980',\n",
       " 'REFLECTANCE_MAXIMUM_BAND_7': '1.210700',\n",
       " 'REFLECTANCE_MINIMUM_BAND_7': '-0.099980',\n",
       " 'REFLECTANCE_MAXIMUM_BAND_8': '1.210700',\n",
       " 'REFLECTANCE_MINIMUM_BAND_8': '-0.099980',\n",
       " 'REFLECTANCE_MAXIMUM_BAND_9': '1.210700',\n",
       " 'REFLECTANCE_MINIMUM_BAND_9': '-0.099980',\n",
       " 'QUANTIZE_CAL_MAX_BAND_1': '65535',\n",
       " 'QUANTIZE_CAL_MIN_BAND_1': '1',\n",
       " 'QUANTIZE_CAL_MAX_BAND_2': '65535',\n",
       " 'QUANTIZE_CAL_MIN_BAND_2': '1',\n",
       " 'QUANTIZE_CAL_MAX_BAND_3': '65535',\n",
       " 'QUANTIZE_CAL_MIN_BAND_3': '1',\n",
       " 'QUANTIZE_CAL_MAX_BAND_4': '65535',\n",
       " 'QUANTIZE_CAL_MIN_BAND_4': '1',\n",
       " 'QUANTIZE_CAL_MAX_BAND_5': '65535',\n",
       " 'QUANTIZE_CAL_MIN_BAND_5': '1',\n",
       " 'QUANTIZE_CAL_MAX_BAND_6': '65535',\n",
       " 'QUANTIZE_CAL_MIN_BAND_6': '1',\n",
       " 'QUANTIZE_CAL_MAX_BAND_7': '65535',\n",
       " 'QUANTIZE_CAL_MIN_BAND_7': '1',\n",
       " 'QUANTIZE_CAL_MAX_BAND_8': '65535',\n",
       " 'QUANTIZE_CAL_MIN_BAND_8': '1',\n",
       " 'QUANTIZE_CAL_MAX_BAND_9': '65535',\n",
       " 'QUANTIZE_CAL_MIN_BAND_9': '1',\n",
       " 'QUANTIZE_CAL_MAX_BAND_10': '65535',\n",
       " 'QUANTIZE_CAL_MIN_BAND_10': '1',\n",
       " 'QUANTIZE_CAL_MAX_BAND_11': '65535',\n",
       " 'QUANTIZE_CAL_MIN_BAND_11': '1',\n",
       " 'RADIANCE_MULT_BAND_1': '1.2987E-02',\n",
       " 'RADIANCE_MULT_BAND_2': '1.3299E-02',\n",
       " 'RADIANCE_MULT_BAND_3': '1.2255E-02',\n",
       " 'RADIANCE_MULT_BAND_4': '1.0334E-02',\n",
       " 'RADIANCE_MULT_BAND_5': '6.3240E-03',\n",
       " 'RADIANCE_MULT_BAND_6': '1.5727E-03',\n",
       " 'RADIANCE_MULT_BAND_7': '5.3009E-04',\n",
       " 'RADIANCE_MULT_BAND_8': '1.1695E-02',\n",
       " 'RADIANCE_MULT_BAND_9': '2.4715E-03',\n",
       " 'RADIANCE_MULT_BAND_10': '3.3420E-04',\n",
       " 'RADIANCE_MULT_BAND_11': '3.3420E-04',\n",
       " 'RADIANCE_ADD_BAND_1': '-64.93627',\n",
       " 'RADIANCE_ADD_BAND_2': '-66.49553',\n",
       " 'RADIANCE_ADD_BAND_3': '-61.27506',\n",
       " 'RADIANCE_ADD_BAND_4': '-51.67058',\n",
       " 'RADIANCE_ADD_BAND_5': '-31.61982',\n",
       " 'RADIANCE_ADD_BAND_6': '-7.86356',\n",
       " 'RADIANCE_ADD_BAND_7': '-2.65044',\n",
       " 'RADIANCE_ADD_BAND_8': '-58.47688',\n",
       " 'RADIANCE_ADD_BAND_9': '-12.35774',\n",
       " 'RADIANCE_ADD_BAND_10': '0.10000',\n",
       " 'RADIANCE_ADD_BAND_11': '0.10000',\n",
       " 'REFLECTANCE_MULT_BAND_1': '2.0000E-05',\n",
       " 'REFLECTANCE_MULT_BAND_2': '2.0000E-05',\n",
       " 'REFLECTANCE_MULT_BAND_3': '2.0000E-05',\n",
       " 'REFLECTANCE_MULT_BAND_4': '2.0000E-05',\n",
       " 'REFLECTANCE_MULT_BAND_5': '2.0000E-05',\n",
       " 'REFLECTANCE_MULT_BAND_6': '2.0000E-05',\n",
       " 'REFLECTANCE_MULT_BAND_7': '2.0000E-05',\n",
       " 'REFLECTANCE_MULT_BAND_8': '2.0000E-05',\n",
       " 'REFLECTANCE_MULT_BAND_9': '2.0000E-05',\n",
       " 'REFLECTANCE_ADD_BAND_1': '-0.100000',\n",
       " 'REFLECTANCE_ADD_BAND_2': '-0.100000',\n",
       " 'REFLECTANCE_ADD_BAND_3': '-0.100000',\n",
       " 'REFLECTANCE_ADD_BAND_4': '-0.100000',\n",
       " 'REFLECTANCE_ADD_BAND_5': '-0.100000',\n",
       " 'REFLECTANCE_ADD_BAND_6': '-0.100000',\n",
       " 'REFLECTANCE_ADD_BAND_7': '-0.100000',\n",
       " 'REFLECTANCE_ADD_BAND_8': '-0.100000',\n",
       " 'REFLECTANCE_ADD_BAND_9': '-0.100000',\n",
       " 'K1_CONSTANT_BAND_10': '774.8853',\n",
       " 'K2_CONSTANT_BAND_10': '1321.0789',\n",
       " 'K1_CONSTANT_BAND_11': '480.8883',\n",
       " 'K2_CONSTANT_BAND_11': '1201.1442',\n",
       " 'MAP_PROJECTION': 'UTM',\n",
       " 'DATUM': 'WGS84',\n",
       " 'ELLIPSOID': 'WGS84',\n",
       " 'UTM_ZONE': '30',\n",
       " 'GRID_CELL_SIZE_PANCHROMATIC': '15.00',\n",
       " 'GRID_CELL_SIZE_REFLECTIVE': '30.00',\n",
       " 'GRID_CELL_SIZE_THERMAL': '30.00',\n",
       " 'ORIENTATION': 'NORTH_UP',\n",
       " 'RESAMPLING_OPTION': 'CUBIC_CONVOLUTION'}"
      ]
     },
     "execution_count": 13,
     "metadata": {},
     "output_type": "execute_result"
    }
   ],
   "source": [
    "metadata = get_metadata(mtl_url)\n",
    "metadata"
   ]
  },
  {
   "cell_type": "markdown",
   "metadata": {},
   "source": [
    "Now have everything me need to make STAC item..."
   ]
  },
  {
   "cell_type": "markdown",
   "metadata": {},
   "source": [
    "## Make STAC Item "
   ]
  },
  {
   "cell_type": "markdown",
   "metadata": {},
   "source": [
    "Items have several required fields including `id`, `datetime`, and `bbox` (bounding box) so we first need to extract those from the metadata. This can be done using the following functions.  "
   ]
  },
  {
   "cell_type": "code",
   "execution_count": 14,
   "metadata": {},
   "outputs": [],
   "source": [
    "# id\n",
    "\n",
    "def get_id(metadata): \n",
    "    return metadata['LANDSAT_SCENE_ID'][:-5]\n",
    "\n",
    "# datetime\n",
    "\n",
    "from dateutil.parser import parse\n",
    "\n",
    "def get_datetime(metadata):\n",
    "    return parse('%sT%s' % (metadata['DATE_ACQUIRED'], metadata['SCENE_CENTER_TIME']))\n",
    "\n",
    "# bbox\n",
    "\n",
    "def get_bbox(metadata):\n",
    "    coords = [[\n",
    "        [float(metadata['CORNER_UL_LON_PRODUCT']), float(metadata['CORNER_UL_LAT_PRODUCT'])],\n",
    "        [float(metadata['CORNER_UR_LON_PRODUCT']), float(metadata['CORNER_UR_LAT_PRODUCT'])],\n",
    "        [float(metadata['CORNER_LR_LON_PRODUCT']), float(metadata['CORNER_LR_LAT_PRODUCT'])],\n",
    "        [float(metadata['CORNER_LL_LON_PRODUCT']), float(metadata['CORNER_LL_LAT_PRODUCT'])],\n",
    "        [float(metadata['CORNER_UL_LON_PRODUCT']), float(metadata['CORNER_UL_LAT_PRODUCT'])]\n",
    "    ]]\n",
    "    lats = [c[1] for c in coords[0]]\n",
    "    lons = [c[0] for c in coords[0]]\n",
    "    return [min(lons), min(lats), max(lons), max(lats)]\n",
    "\n",
    "# geometry, this is a bit trickier since landsat tiles are tilted\n",
    "\n",
    "def get_geometry(scene, bbox):\n",
    "    url = get_asset_url(scene, 'ANG.txt')\n",
    "    sz = []\n",
    "    coords = []\n",
    "    ang_text = pystac.STAC_IO.read_text(url)\n",
    "    for line in ang_text.split('\\n'):\n",
    "        if 'BAND01_NUM_L1T_LINES' in line or 'BAND01_NUM_L1T_SAMPS' in line:\n",
    "            sz.append(float(line.split('=')[1]))\n",
    "        if 'BAND01_L1T_IMAGE_CORNER_LINES' in line or 'BAND01_L1T_IMAGE_CORNER_SAMPS' in line:\n",
    "            coords.append([float(l) for l in line.split('=')[1].strip().strip('()').split(',')])\n",
    "        if len(coords) == 2:\n",
    "            break\n",
    "    dlon = bbox[2] - bbox[0]\n",
    "    dlat = bbox[3] - bbox[1]\n",
    "    lons = [c/sz[1] * dlon + bbox[0] for c in coords[1]]\n",
    "    lats = [((sz[0] - c)/sz[0]) * dlat + bbox[1] for c in coords[0]]\n",
    "    coordinates = [[\n",
    "        [lons[0], lats[0]], [lons[1], lats[1]], [lons[2], lats[2]], [lons[3], lats[3]], [lons[0], lats[0]]\n",
    "    ]]\n",
    "    \n",
    "    return {'type': 'Polygon', 'coordinates': coordinates}"
   ]
  },
  {
   "cell_type": "markdown",
   "metadata": {},
   "source": [
    "Then store variables..."
   ]
  },
  {
   "cell_type": "code",
   "execution_count": 15,
   "metadata": {},
   "outputs": [
    {
     "name": "stdout",
     "output_type": "stream",
     "text": [
      "ID: LC82050212020006\n",
      "datetime: 2020-01-06 11:16:07.471447+00:00\n",
      "bbox: [-5.63922, 54.78572, -1.66005, 56.99834]\n",
      "geometry: {'type': 'Polygon', 'coordinates': [[[-4.679899357070097, 56.99739750867762], [-1.6618520817312392, 56.48293191696963], [-2.6246412167403794, 54.78628975250376], [-5.637228781570707, 55.30986728082811], [-4.679899357070097, 56.99739750867762]]]}\n"
     ]
    }
   ],
   "source": [
    "item_id = get_id(metadata)\n",
    "print('ID:', item_id)\n",
    "\n",
    "item_datetime = get_datetime(metadata)\n",
    "print('datetime:', item_datetime)\n",
    "\n",
    "item_bbox = get_bbox(metadata)\n",
    "print('bbox:', item_bbox)\n",
    "\n",
    "item_geometry = get_geometry(scene, item_bbox) # from scene as opposed to metadata\n",
    "print('geometry:', item_geometry)"
   ]
  },
  {
   "cell_type": "markdown",
   "metadata": {},
   "source": [
    "Can now double check we have the correct area by formatting the item geometry as GeoJSON then copying into a GeoJSON reader (such as http://geojson.io)."
   ]
  },
  {
   "cell_type": "code",
   "execution_count": 16,
   "metadata": {},
   "outputs": [
    {
     "name": "stdout",
     "output_type": "stream",
     "text": [
      "{\n",
      "  \"type\": \"Polygon\",\n",
      "  \"coordinates\": [\n",
      "    [\n",
      "      [\n",
      "        -4.679899357070097,\n",
      "        56.99739750867762\n",
      "      ],\n",
      "      [\n",
      "        -1.6618520817312392,\n",
      "        56.48293191696963\n",
      "      ],\n",
      "      [\n",
      "        -2.6246412167403794,\n",
      "        54.78628975250376\n",
      "      ],\n",
      "      [\n",
      "        -5.637228781570707,\n",
      "        55.30986728082811\n",
      "      ],\n",
      "      [\n",
      "        -4.679899357070097,\n",
      "        56.99739750867762\n",
      "      ]\n",
      "    ]\n",
      "  ]\n",
      "}\n"
     ]
    }
   ],
   "source": [
    "import json\n",
    "\n",
    "print(json.dumps(item_geometry, indent=2))"
   ]
  },
  {
   "cell_type": "markdown",
   "metadata": {},
   "source": [
    "No we have everything we need to make a STAC item! We create it below using pystac."
   ]
  },
  {
   "cell_type": "code",
   "execution_count": 17,
   "metadata": {},
   "outputs": [],
   "source": [
    "item = pystac.Item(id = item_id,\n",
    "                  datetime = item_datetime,\n",
    "                  bbox = item_bbox,\n",
    "                  geometry = item_geometry,\n",
    "                  properties = {})"
   ]
  },
  {
   "cell_type": "code",
   "execution_count": 18,
   "metadata": {},
   "outputs": [],
   "source": [
    "item.validate() #PySTAC function to check we're doing things correctly"
   ]
  },
  {
   "cell_type": "markdown",
   "metadata": {},
   "source": [
    "No errors, all good!\n",
    "\n",
    "So far we only have the required attributes, however it is often a good idea to add other common features, such as ground sample distance. We also enable the `eo` extenstion (not 100% on this) so that we can include the cloud cover data."
   ]
  },
  {
   "cell_type": "code",
   "execution_count": 19,
   "metadata": {},
   "outputs": [],
   "source": [
    "item.common_metadata.gsd = 30.0 # not all bands are 30.0 but we can adjust this when we add the asset later"
   ]
  },
  {
   "cell_type": "code",
   "execution_count": 20,
   "metadata": {},
   "outputs": [
    {
     "data": {
      "text/plain": [
       "94.11"
      ]
     },
     "execution_count": 20,
     "metadata": {},
     "output_type": "execute_result"
    }
   ],
   "source": [
    "item.ext.enable('eo')\n",
    "\n",
    "def get_cloud_cover(metadata):\n",
    "    return float(metadata['CLOUD_COVER'])\n",
    "\n",
    "item.ext.eo.cloud_cover = get_cloud_cover(metadata)\n",
    "item.ext.eo.cloud_cover"
   ]
  },
  {
   "cell_type": "markdown",
   "metadata": {},
   "source": [
    "Now that we have set up the item, we can add assets, i.e. the actual files."
   ]
  },
  {
   "cell_type": "markdown",
   "metadata": {},
   "source": [
    "### Adding assets"
   ]
  },
  {
   "cell_type": "markdown",
   "metadata": {},
   "source": [
    "First provide information on Landsat band info"
   ]
  },
  {
   "cell_type": "code",
   "execution_count": 21,
   "metadata": {},
   "outputs": [],
   "source": [
    "from pystac.extensions.eo import Band\n",
    "\n",
    "landsat_band_info = {\n",
    "    'B1': {\n",
    "        'band': Band.create(name=\"B1\", common_name=\"coastal\", center_wavelength=0.48, full_width_half_max=0.02),\n",
    "        'gsd': 30.0\n",
    "    },\n",
    "    'B2': {\n",
    "        'band': Band.create(name=\"B2\", common_name=\"blue\", center_wavelength=0.44, full_width_half_max=0.06),\n",
    "        'gsd': 30.0\n",
    "    },\n",
    "    'B3': {\n",
    "        'band': Band.create(name=\"B3\", common_name=\"green\", center_wavelength=0.56, full_width_half_max=0.06),\n",
    "        'gsd': 30.0\n",
    "    },\n",
    "    'B4': {\n",
    "        'band': Band.create(name=\"B4\", common_name=\"red\", center_wavelength=0.65, full_width_half_max=0.04),\n",
    "        'gsd': 30.0\n",
    "    },\n",
    "    'B5': {\n",
    "        'band': Band.create(name=\"B5\", common_name=\"nir\", center_wavelength=0.86, full_width_half_max=0.03),\n",
    "        'gsd': 30.0\n",
    "    },\n",
    "    'B6': {\n",
    "        'band': Band.create(name=\"B6\", common_name=\"swir16\", center_wavelength=1.6, full_width_half_max=0.08),\n",
    "        'gsd': 30.0\n",
    "    },\n",
    "    'B7': {\n",
    "        'band': Band.create(name=\"B7\", common_name=\"swir22\", center_wavelength=2.2, full_width_half_max=0.2),\n",
    "        'gsd': 30.0\n",
    "    },\n",
    "    'B8': {\n",
    "        'band': Band.create(name=\"B8\", common_name=\"pan\", center_wavelength=0.59, full_width_half_max=0.18),\n",
    "        'gsd': 15.0\n",
    "    },\n",
    "    'B9': {\n",
    "        'band': Band.create(name=\"B9\", common_name=\"cirrus\", center_wavelength=1.37, full_width_half_max=0.02),\n",
    "        'gsd': 30.0\n",
    "    },\n",
    "    'B10': {\n",
    "        'band': Band.create(name=\"B10\", common_name=\"lwir11\", center_wavelength=10.9, full_width_half_max=0.8),\n",
    "        'gsd': 100.0\n",
    "    },\n",
    "    'B11': {\n",
    "        'band': Band.create(name=\"B11\", common_name=\"lwir12\", center_wavelength=12.0, full_width_half_max=1.0),\n",
    "        'gsd': 100.0\n",
    "    }\n",
    "}"
   ]
  },
  {
   "cell_type": "markdown",
   "metadata": {},
   "source": [
    "Now define function to get other bandsat assets for each item"
   ]
  },
  {
   "cell_type": "code",
   "execution_count": 22,
   "metadata": {},
   "outputs": [],
   "source": [
    "def get_other_assets(scene):\n",
    "    return {\n",
    "    'thumbnail': {\n",
    "        'href': get_asset_url(scene, 'thumb_large.jpg'),\n",
    "        'media_type': pystac.MediaType.JPEG\n",
    "    },\n",
    "    'index': {\n",
    "        'href': get_asset_url(scene, 'index.html'),\n",
    "        'media_type': 'application/html'\n",
    "    },\n",
    "    'ANG': {\n",
    "        'href': get_asset_url(scene, 'ANG.txt'),\n",
    "        'media_type': 'text/plain'\n",
    "    },\n",
    "    'MTL': {\n",
    "        'href': get_asset_url(scene, 'MTL.txt'),\n",
    "        'media_type': 'text/plain'\n",
    "    },\n",
    "    'BQA': {\n",
    "        'href': get_asset_url(scene, 'BQA.TIF'),\n",
    "        'media_type': pystac.MediaType.GEOTIFF\n",
    "    }\n",
    "}"
   ]
  },
  {
   "cell_type": "markdown",
   "metadata": {},
   "source": [
    "We can now add relevant assets to items as follows"
   ]
  },
  {
   "cell_type": "code",
   "execution_count": 23,
   "metadata": {},
   "outputs": [],
   "source": [
    "def add_assets(item, scene):\n",
    "    # Add bands\n",
    "    for band_id, band_info in landsat_band_info.items():\n",
    "        band_url = get_asset_url(scene, '{}.TIF'.format(band_id))\n",
    "        asset = pystac.Asset(href=band_url, media_type=pystac.MediaType.COG)\n",
    "        bands = [band_info['band']]\n",
    "        item.ext.eo.set_bands(bands, asset)\n",
    "        item.add_asset(band_id, asset)\n",
    "        \n",
    "        # If this asset has a different GSD than the item, set it on the asset\n",
    "        if band_info['gsd'] != item.common_metadata.gsd:\n",
    "            item.common_metadata.set_gsd(band_info['gsd'], asset)\n",
    "        \n",
    "    # Add other assets\n",
    "    for asset_id, asset_info in get_other_assets(scene).items():\n",
    "        item.add_asset(asset_id, \n",
    "                       pystac.Asset(href=asset_info['href'], media_type=asset_info['media_type']))"
   ]
  },
  {
   "cell_type": "code",
   "execution_count": 24,
   "metadata": {},
   "outputs": [],
   "source": [
    "add_assets(item, scene)"
   ]
  },
  {
   "cell_type": "code",
   "execution_count": 25,
   "metadata": {},
   "outputs": [
    {
     "data": {
      "text/plain": [
       "{'href': 'https://s3-us-west-2.amazonaws.com/landsat-pds/c1/L8/205/021/LC08_L1GT_205021_20200106_20200106_01_RT/LC08_L1GT_205021_20200106_20200106_01_RT_B10.TIF',\n",
       " 'type': <MediaType.COG: 'image/tiff; application=geotiff; profile=cloud-optimized'>,\n",
       " 'eo:bands': [{'name': 'B10',\n",
       "   'common_name': 'lwir11',\n",
       "   'center_wavelength': 10.9,\n",
       "   'full_width_half_max': 0.8}],\n",
       " 'gsd': 100.0}"
      ]
     },
     "execution_count": 25,
     "metadata": {},
     "output_type": "execute_result"
    }
   ],
   "source": [
    "item.assets['B10'].to_dict()"
   ]
  },
  {
   "cell_type": "code",
   "execution_count": 26,
   "metadata": {},
   "outputs": [
    {
     "data": {
      "text/plain": [
       "{'href': 'https://s3-us-west-2.amazonaws.com/landsat-pds/c1/L8/205/021/LC08_L1GT_205021_20200106_20200106_01_RT/LC08_L1GT_205021_20200106_20200106_01_RT_thumb_large.jpg',\n",
       " 'type': <MediaType.JPEG: 'image/jpeg'>}"
      ]
     },
     "execution_count": 26,
     "metadata": {},
     "output_type": "execute_result"
    }
   ],
   "source": [
    "item.assets['thumbnail'].to_dict()"
   ]
  },
  {
   "cell_type": "markdown",
   "metadata": {},
   "source": [
    "Can also add CRS as an extension to the item. To find CRS the below function determines EPSG code using centre lat of the scene."
   ]
  },
  {
   "cell_type": "code",
   "execution_count": 27,
   "metadata": {},
   "outputs": [],
   "source": [
    "def get_epsg(metadata, min_lat, max_lat):\n",
    "    if 'UTM_ZONE' in metadata:\n",
    "        center_lat = (min_lat + max_lat)/2.0\n",
    "        return int(('326' if center_lat > 0 else '327') + metadata['UTM_ZONE'])\n",
    "    else:\n",
    "        return None"
   ]
  },
  {
   "cell_type": "code",
   "execution_count": 28,
   "metadata": {},
   "outputs": [
    {
     "data": {
      "text/plain": [
       "32630"
      ]
     },
     "execution_count": 28,
     "metadata": {},
     "output_type": "execute_result"
    }
   ],
   "source": [
    "item.ext.enable('projection')\n",
    "item.ext.projection.epsg = get_epsg(metadata, item.bbox[1], item.bbox[3]) \n",
    "item.ext.projection.epsg"
   ]
  },
  {
   "cell_type": "markdown",
   "metadata": {},
   "source": [
    "Another extenstion is view geometry which, can be founded and added as follows"
   ]
  },
  {
   "cell_type": "code",
   "execution_count": 29,
   "metadata": {},
   "outputs": [],
   "source": [
    "def get_view_info(metadata):\n",
    "    return { 'sun_azimuth': float(metadata['SUN_AZIMUTH']),\n",
    "             'sun_elevation': float(metadata['SUN_ELEVATION']) }"
   ]
  },
  {
   "cell_type": "code",
   "execution_count": 30,
   "metadata": {},
   "outputs": [
    {
     "data": {
      "text/plain": [
       "{'datetime': '2020-01-06T11:16:07.471447Z',\n",
       " 'gsd': 30.0,\n",
       " 'eo:cloud_cover': 94.11,\n",
       " 'proj:epsg': 32630,\n",
       " 'view:sun_azimuth': 164.99895314,\n",
       " 'view:sun_elevation': 10.38957221}"
      ]
     },
     "execution_count": 30,
     "metadata": {},
     "output_type": "execute_result"
    }
   ],
   "source": [
    "item.ext.enable('view')\n",
    "view_info = get_view_info(metadata)\n",
    "item.ext.view.sun_azimuth = view_info['sun_azimuth']\n",
    "item.ext.view.sun_elevation = view_info['sun_elevation']\n",
    "item.properties"
   ]
  },
  {
   "cell_type": "markdown",
   "metadata": {},
   "source": [
    "Let's check that we have done everything correctly using `item.validate`"
   ]
  },
  {
   "cell_type": "code",
   "execution_count": 37,
   "metadata": {},
   "outputs": [],
   "source": [
    "item.validate()"
   ]
  },
  {
   "cell_type": "markdown",
   "metadata": {},
   "source": [
    "### Collections"
   ]
  },
  {
   "cell_type": "markdown",
   "metadata": {},
   "source": [
    "Now that we know how to make an item, lets gather the items into a collection. "
   ]
  },
  {
   "cell_type": "code",
   "execution_count": 39,
   "metadata": {},
   "outputs": [
    {
     "data": {
      "text/plain": [
       "'Edinburgh Flat-landsat-8'"
      ]
     },
     "execution_count": 39,
     "metadata": {},
     "output_type": "execute_result"
    }
   ],
   "source": [
    "collection_id = '{}-landsat-8'.format(location_name) # id for collection\n",
    "collection_id"
   ]
  },
  {
   "cell_type": "code",
   "execution_count": 40,
   "metadata": {},
   "outputs": [
    {
     "data": {
      "text/plain": [
       "'2020 Landsat 8 images over Edinburgh Flat'"
      ]
     },
     "execution_count": 40,
     "metadata": {},
     "output_type": "execute_result"
    }
   ],
   "source": [
    "collection_title = '2020 Landsat 8 images over {}'.format(location_name) # title\n",
    "collection_title"
   ]
  },
  {
   "cell_type": "code",
   "execution_count": 41,
   "metadata": {},
   "outputs": [
    {
     "name": "stdout",
     "output_type": "stream",
     "text": [
      "### Edinburgh Flat Landsat 8\n",
      "\n",
      "A collection of Landsat 8 scenes around Edinburgh Flat in 2020.\n",
      "\n"
     ]
    }
   ],
   "source": [
    "collection_description = '''### {} Landsat 8\n",
    "\n",
    "A collection of Landsat 8 scenes around {} in 2020.\n",
    "'''.format(location_name, location_name)\n",
    "print(collection_description) # description for collection written in markdown"
   ]
  },
  {
   "cell_type": "markdown",
   "metadata": {},
   "source": [
    "Along with id, title, and description,we also need the temporal and spatial extent of the collection, i.e. the time range we have and the whole area the collection encompasses."
   ]
  },
  {
   "cell_type": "code",
   "execution_count": 44,
   "metadata": {},
   "outputs": [],
   "source": [
    "from datetime import datetime\n",
    "\n",
    "spatial_extent = pystac.SpatialExtent([[-180, -90, 180, 90]])\n",
    "temporal_extent = pystac.TemporalExtent([[datetime(2013, 6, 1), None]])\n",
    "collection_extent = pystac.Extent(spatial_extent, temporal_extent)"
   ]
  },
  {
   "cell_type": "code",
   "execution_count": 45,
   "metadata": {},
   "outputs": [],
   "source": [
    "collection = pystac.Collection(id=collection_id,\n",
    "                     title=collection_title,\n",
    "                     description=collection_description,\n",
    "                     extent=collection_extent)"
   ]
  },
  {
   "cell_type": "code",
   "execution_count": 46,
   "metadata": {},
   "outputs": [
    {
     "data": {
      "text/plain": [
       "{'id': 'Edinburgh Flat-landsat-8',\n",
       " 'stac_version': '1.0.0-beta.2',\n",
       " 'description': '### Edinburgh Flat Landsat 8\\n\\nA collection of Landsat 8 scenes around Edinburgh Flat in 2020.\\n',\n",
       " 'links': [{'rel': 'root', 'href': None, 'type': 'application/json'}],\n",
       " 'title': '2020 Landsat 8 images over Edinburgh Flat',\n",
       " 'extent': {'spatial': {'bbox': [[-180, -90, 180, 90]]},\n",
       "  'temporal': {'interval': [['2013-06-01T00:00:00Z', None]]}},\n",
       " 'license': 'proprietary'}"
      ]
     },
     "execution_count": 46,
     "metadata": {},
     "output_type": "execute_result"
    }
   ],
   "source": [
    "collection.to_dict()"
   ]
  },
  {
   "cell_type": "code",
   "execution_count": 49,
   "metadata": {},
   "outputs": [],
   "source": [
    "collection.license = 'PDDL-1.0'"
   ]
  },
  {
   "cell_type": "code",
   "execution_count": 50,
   "metadata": {},
   "outputs": [
    {
     "data": {
      "text/plain": [
       "{'id': 'Edinburgh Flat-landsat-8',\n",
       " 'stac_version': '1.0.0-beta.2',\n",
       " 'description': '### Edinburgh Flat Landsat 8\\n\\nA collection of Landsat 8 scenes around Edinburgh Flat in 2020.\\n',\n",
       " 'links': [{'rel': 'root', 'href': None, 'type': 'application/json'}],\n",
       " 'title': '2020 Landsat 8 images over Edinburgh Flat',\n",
       " 'extent': {'spatial': {'bbox': [[-180, -90, 180, 90]]},\n",
       "  'temporal': {'interval': [['2013-06-01T00:00:00Z', None]]}},\n",
       " 'license': 'PDDL-1.0'}"
      ]
     },
     "execution_count": 50,
     "metadata": {},
     "output_type": "execute_result"
    }
   ],
   "source": [
    "collection.to_dict()"
   ]
  },
  {
   "cell_type": "markdown",
   "metadata": {},
   "source": [
    "### Looping through"
   ]
  },
  {
   "cell_type": "markdown",
   "metadata": {},
   "source": [
    "Now that we have define the collection and created an item, we can loop through all scenes in the database and add them to the collection. The followinbg function condenses everything done above."
   ]
  },
  {
   "cell_type": "code",
   "execution_count": 55,
   "metadata": {},
   "outputs": [],
   "source": [
    "def item_from_scene(scene):\n",
    "    \n",
    "    mtl_url = get_asset_url(scene, 'MTL.txt')\n",
    "    metadata = get_metadata(mtl_url)\n",
    "    \n",
    "    bbox = get_bbox(metadata)\n",
    "    item = pystac.Item(id=get_id(metadata), \n",
    "                       datetime=get_datetime(metadata),\n",
    "                       geometry=get_geometry(scene, bbox),\n",
    "                       bbox=bbox,\n",
    "                       properties={})\n",
    "    \n",
    "    item.common_metadata.gsd = 30.0\n",
    "    \n",
    "    item.ext.enable('eo')\n",
    "    item.ext.eo.cloud_cover = get_cloud_cover(metadata)\n",
    "    \n",
    "    add_assets(item, scene)\n",
    "    \n",
    "    item.ext.enable('projection')\n",
    "    item.ext.projection.epsg = get_epsg(metadata, item.bbox[1], item.bbox[3]) \n",
    "\n",
    "    item.ext.enable('view')\n",
    "    view_info = get_view_info(metadata)\n",
    "    item.ext.view.sun_azimuth = view_info['sun_azimuth']\n",
    "    item.ext.view.sun_elevation = view_info['sun_elevation']\n",
    "\n",
    "    item.validate()\n",
    "    \n",
    "    return item\n"
   ]
  },
  {
   "cell_type": "code",
   "execution_count": 56,
   "metadata": {},
   "outputs": [],
   "source": [
    "for scene in location_scenes:\n",
    "    item = item_from_scene(scene)\n",
    "    collection.add_item(item)"
   ]
  },
  {
   "cell_type": "markdown",
   "metadata": {},
   "source": [
    "With all these items we can update the extent of the collection, which we previously to be very broad."
   ]
  },
  {
   "cell_type": "code",
   "execution_count": 57,
   "metadata": {},
   "outputs": [
    {
     "data": {
      "text/plain": [
       "{'spatial': {'bbox': [[-5.70824, 54.78235, -0.07244, 56.99902]]},\n",
       " 'temporal': {'interval': [['2020-01-06T11:16:07.471447Z',\n",
       "    '2020-12-23T11:16:14.663021Z']]}}"
      ]
     },
     "execution_count": 57,
     "metadata": {},
     "output_type": "execute_result"
    }
   ],
   "source": [
    "collection.update_extent_from_items()\n",
    "collection.extent.to_dict()"
   ]
  },
  {
   "cell_type": "markdown",
   "metadata": {},
   "source": [
    "So far we have been building everything in memory, now we need a href."
   ]
  },
  {
   "cell_type": "code",
   "execution_count": 58,
   "metadata": {},
   "outputs": [
    {
     "data": {
      "text/plain": [
       "<Collection id=Edinburgh Flat-landsat-8>"
      ]
     },
     "execution_count": 58,
     "metadata": {},
     "output_type": "execute_result"
    }
   ],
   "source": [
    "from pathlib import Path\n",
    "\n",
    "root_path = str(Path.home() / '{}-landsat-stac'.format(location_name))\n",
    "\n",
    "collection.normalize_hrefs(root_path)"
   ]
  },
  {
   "cell_type": "code",
   "execution_count": 59,
   "metadata": {},
   "outputs": [],
   "source": [
    "collection.validate_all()"
   ]
  },
  {
   "cell_type": "markdown",
   "metadata": {},
   "source": [
    "### Write catalog"
   ]
  },
  {
   "cell_type": "code",
   "execution_count": 63,
   "metadata": {},
   "outputs": [],
   "source": [
    "collection.save(pystac.CatalogType.SELF_CONTAINED)"
   ]
  },
  {
   "cell_type": "code",
   "execution_count": 61,
   "metadata": {},
   "outputs": [
    {
     "name": "stdout",
     "output_type": "stream",
     "text": [
      "* <Collection id=Edinburgh Flat-landsat-8>\n",
      "  * <Item id=LC82050212020006>\n",
      "  * <Item id=LC82040212020015>\n",
      "  * <Item id=LC82050212020022>\n",
      "  * <Item id=LC82050212020022>\n",
      "  * <Item id=LC82040212020031>\n",
      "  * <Item id=LC82050212020038>\n",
      "  * <Item id=LC82040212020031>\n",
      "  * <Item id=LC82050212020038>\n",
      "  * <Item id=LC82040212020047>\n",
      "  * <Item id=LC82050212020054>\n",
      "  * <Item id=LC82040212020047>\n",
      "  * <Item id=LC82040212020063>\n",
      "  * <Item id=LC82050212020070>\n",
      "  * <Item id=LC82040212020063>\n",
      "  * <Item id=LC82040212020079>\n",
      "  * <Item id=LC82050212020086>\n",
      "  * <Item id=LC82050212020070>\n",
      "  * <Item id=LC82040212020079>\n",
      "  * <Item id=LC82040212020095>\n",
      "  * <Item id=LC82050212020086>\n",
      "  * <Item id=LC82050212020102>\n",
      "  * <Item id=LC82040212020111>\n",
      "  * <Item id=LC82050212020102>\n",
      "  * <Item id=LC82050212020118>\n",
      "  * <Item id=LC82040212020127>\n",
      "  * <Item id=LC82040212020111>\n",
      "  * <Item id=LC82040212020127>\n",
      "  * <Item id=LC82050212020134>\n",
      "  * <Item id=LC82050212020118>\n",
      "  * <Item id=LC82040212020143>\n",
      "  * <Item id=LC82050212020134>\n",
      "  * <Item id=LC82040212020159>\n",
      "  * <Item id=LC82050212020150>\n",
      "  * <Item id=LC82050212020166>\n",
      "  * <Item id=LC82040212020159>\n",
      "  * <Item id=LC82050212020166>\n",
      "  * <Item id=LC82050212020182>\n",
      "  * <Item id=LC82050212020198>\n",
      "  * <Item id=LC82040212020223>\n",
      "  * <Item id=LC82050212020214>\n",
      "  * <Item id=LC82040212020191>\n",
      "  * <Item id=LC82050212020198>\n",
      "  * <Item id=LC82040212020223>\n",
      "  * <Item id=LC82040212020255>\n",
      "  * <Item id=LC82050212020262>\n",
      "  * <Item id=LC82040212020271>\n",
      "  * <Item id=LC82050212020278>\n",
      "  * <Item id=LC82040212020271>\n",
      "  * <Item id=LC82050212020262>\n",
      "  * <Item id=LC82040212020287>\n",
      "  * <Item id=LC82050212020278>\n",
      "  * <Item id=LC82050212020294>\n",
      "  * <Item id=LC82040212020335>\n",
      "  * <Item id=LC82050212020342>\n",
      "  * <Item id=LC82050212020342>\n",
      "  * <Item id=LC82050212020326>\n",
      "  * <Item id=LC82050212020358>\n",
      "  * <Item id=LC82050212020342>\n"
     ]
    }
   ],
   "source": [
    "collection.describe()"
   ]
  },
  {
   "cell_type": "code",
   "execution_count": null,
   "metadata": {},
   "outputs": [],
   "source": []
  },
  {
   "cell_type": "code",
   "execution_count": 62,
   "metadata": {},
   "outputs": [
    {
     "data": {
      "text/plain": [
       "{'id': 'Edinburgh Flat-landsat-8',\n",
       " 'stac_version': '1.0.0-beta.2',\n",
       " 'description': '### Edinburgh Flat Landsat 8\\n\\nA collection of Landsat 8 scenes around Edinburgh Flat in 2020.\\n',\n",
       " 'links': [{'rel': 'root',\n",
       "   'href': './collection.json',\n",
       "   'type': 'application/json'},\n",
       "  {'rel': 'item',\n",
       "   'href': './LC82050212020006/LC82050212020006.json',\n",
       "   'type': 'application/json'},\n",
       "  {'rel': 'item',\n",
       "   'href': './LC82040212020015/LC82040212020015.json',\n",
       "   'type': 'application/json'},\n",
       "  {'rel': 'item',\n",
       "   'href': './LC82050212020022/LC82050212020022.json',\n",
       "   'type': 'application/json'},\n",
       "  {'rel': 'item',\n",
       "   'href': './LC82050212020022/LC82050212020022.json',\n",
       "   'type': 'application/json'},\n",
       "  {'rel': 'item',\n",
       "   'href': './LC82040212020031/LC82040212020031.json',\n",
       "   'type': 'application/json'},\n",
       "  {'rel': 'item',\n",
       "   'href': './LC82050212020038/LC82050212020038.json',\n",
       "   'type': 'application/json'},\n",
       "  {'rel': 'item',\n",
       "   'href': './LC82040212020031/LC82040212020031.json',\n",
       "   'type': 'application/json'},\n",
       "  {'rel': 'item',\n",
       "   'href': './LC82050212020038/LC82050212020038.json',\n",
       "   'type': 'application/json'},\n",
       "  {'rel': 'item',\n",
       "   'href': './LC82040212020047/LC82040212020047.json',\n",
       "   'type': 'application/json'},\n",
       "  {'rel': 'item',\n",
       "   'href': './LC82050212020054/LC82050212020054.json',\n",
       "   'type': 'application/json'},\n",
       "  {'rel': 'item',\n",
       "   'href': './LC82040212020047/LC82040212020047.json',\n",
       "   'type': 'application/json'},\n",
       "  {'rel': 'item',\n",
       "   'href': './LC82040212020063/LC82040212020063.json',\n",
       "   'type': 'application/json'},\n",
       "  {'rel': 'item',\n",
       "   'href': './LC82050212020070/LC82050212020070.json',\n",
       "   'type': 'application/json'},\n",
       "  {'rel': 'item',\n",
       "   'href': './LC82040212020063/LC82040212020063.json',\n",
       "   'type': 'application/json'},\n",
       "  {'rel': 'item',\n",
       "   'href': './LC82040212020079/LC82040212020079.json',\n",
       "   'type': 'application/json'},\n",
       "  {'rel': 'item',\n",
       "   'href': './LC82050212020086/LC82050212020086.json',\n",
       "   'type': 'application/json'},\n",
       "  {'rel': 'item',\n",
       "   'href': './LC82050212020070/LC82050212020070.json',\n",
       "   'type': 'application/json'},\n",
       "  {'rel': 'item',\n",
       "   'href': './LC82040212020079/LC82040212020079.json',\n",
       "   'type': 'application/json'},\n",
       "  {'rel': 'item',\n",
       "   'href': './LC82040212020095/LC82040212020095.json',\n",
       "   'type': 'application/json'},\n",
       "  {'rel': 'item',\n",
       "   'href': './LC82050212020086/LC82050212020086.json',\n",
       "   'type': 'application/json'},\n",
       "  {'rel': 'item',\n",
       "   'href': './LC82050212020102/LC82050212020102.json',\n",
       "   'type': 'application/json'},\n",
       "  {'rel': 'item',\n",
       "   'href': './LC82040212020111/LC82040212020111.json',\n",
       "   'type': 'application/json'},\n",
       "  {'rel': 'item',\n",
       "   'href': './LC82050212020102/LC82050212020102.json',\n",
       "   'type': 'application/json'},\n",
       "  {'rel': 'item',\n",
       "   'href': './LC82050212020118/LC82050212020118.json',\n",
       "   'type': 'application/json'},\n",
       "  {'rel': 'item',\n",
       "   'href': './LC82040212020127/LC82040212020127.json',\n",
       "   'type': 'application/json'},\n",
       "  {'rel': 'item',\n",
       "   'href': './LC82040212020111/LC82040212020111.json',\n",
       "   'type': 'application/json'},\n",
       "  {'rel': 'item',\n",
       "   'href': './LC82040212020127/LC82040212020127.json',\n",
       "   'type': 'application/json'},\n",
       "  {'rel': 'item',\n",
       "   'href': './LC82050212020134/LC82050212020134.json',\n",
       "   'type': 'application/json'},\n",
       "  {'rel': 'item',\n",
       "   'href': './LC82050212020118/LC82050212020118.json',\n",
       "   'type': 'application/json'},\n",
       "  {'rel': 'item',\n",
       "   'href': './LC82040212020143/LC82040212020143.json',\n",
       "   'type': 'application/json'},\n",
       "  {'rel': 'item',\n",
       "   'href': './LC82050212020134/LC82050212020134.json',\n",
       "   'type': 'application/json'},\n",
       "  {'rel': 'item',\n",
       "   'href': './LC82040212020159/LC82040212020159.json',\n",
       "   'type': 'application/json'},\n",
       "  {'rel': 'item',\n",
       "   'href': './LC82050212020150/LC82050212020150.json',\n",
       "   'type': 'application/json'},\n",
       "  {'rel': 'item',\n",
       "   'href': './LC82050212020166/LC82050212020166.json',\n",
       "   'type': 'application/json'},\n",
       "  {'rel': 'item',\n",
       "   'href': './LC82040212020159/LC82040212020159.json',\n",
       "   'type': 'application/json'},\n",
       "  {'rel': 'item',\n",
       "   'href': './LC82050212020166/LC82050212020166.json',\n",
       "   'type': 'application/json'},\n",
       "  {'rel': 'item',\n",
       "   'href': './LC82050212020182/LC82050212020182.json',\n",
       "   'type': 'application/json'},\n",
       "  {'rel': 'item',\n",
       "   'href': './LC82050212020198/LC82050212020198.json',\n",
       "   'type': 'application/json'},\n",
       "  {'rel': 'item',\n",
       "   'href': './LC82040212020223/LC82040212020223.json',\n",
       "   'type': 'application/json'},\n",
       "  {'rel': 'item',\n",
       "   'href': './LC82050212020214/LC82050212020214.json',\n",
       "   'type': 'application/json'},\n",
       "  {'rel': 'item',\n",
       "   'href': './LC82040212020191/LC82040212020191.json',\n",
       "   'type': 'application/json'},\n",
       "  {'rel': 'item',\n",
       "   'href': './LC82050212020198/LC82050212020198.json',\n",
       "   'type': 'application/json'},\n",
       "  {'rel': 'item',\n",
       "   'href': './LC82040212020223/LC82040212020223.json',\n",
       "   'type': 'application/json'},\n",
       "  {'rel': 'item',\n",
       "   'href': './LC82040212020255/LC82040212020255.json',\n",
       "   'type': 'application/json'},\n",
       "  {'rel': 'item',\n",
       "   'href': './LC82050212020262/LC82050212020262.json',\n",
       "   'type': 'application/json'},\n",
       "  {'rel': 'item',\n",
       "   'href': './LC82040212020271/LC82040212020271.json',\n",
       "   'type': 'application/json'},\n",
       "  {'rel': 'item',\n",
       "   'href': './LC82050212020278/LC82050212020278.json',\n",
       "   'type': 'application/json'},\n",
       "  {'rel': 'item',\n",
       "   'href': './LC82040212020271/LC82040212020271.json',\n",
       "   'type': 'application/json'},\n",
       "  {'rel': 'item',\n",
       "   'href': './LC82050212020262/LC82050212020262.json',\n",
       "   'type': 'application/json'},\n",
       "  {'rel': 'item',\n",
       "   'href': './LC82040212020287/LC82040212020287.json',\n",
       "   'type': 'application/json'},\n",
       "  {'rel': 'item',\n",
       "   'href': './LC82050212020278/LC82050212020278.json',\n",
       "   'type': 'application/json'},\n",
       "  {'rel': 'item',\n",
       "   'href': './LC82050212020294/LC82050212020294.json',\n",
       "   'type': 'application/json'},\n",
       "  {'rel': 'item',\n",
       "   'href': './LC82040212020335/LC82040212020335.json',\n",
       "   'type': 'application/json'},\n",
       "  {'rel': 'item',\n",
       "   'href': './LC82050212020342/LC82050212020342.json',\n",
       "   'type': 'application/json'},\n",
       "  {'rel': 'item',\n",
       "   'href': './LC82050212020342/LC82050212020342.json',\n",
       "   'type': 'application/json'},\n",
       "  {'rel': 'item',\n",
       "   'href': './LC82050212020326/LC82050212020326.json',\n",
       "   'type': 'application/json'},\n",
       "  {'rel': 'item',\n",
       "   'href': './LC82050212020358/LC82050212020358.json',\n",
       "   'type': 'application/json'},\n",
       "  {'rel': 'item',\n",
       "   'href': './LC82050212020342/LC82050212020342.json',\n",
       "   'type': 'application/json'},\n",
       "  {'rel': 'self',\n",
       "   'href': '/Users/oskarfkrauss/Edinburgh Flat-landsat-stac/collection.json',\n",
       "   'type': 'application/json'}],\n",
       " 'title': '2020 Landsat 8 images over Edinburgh Flat',\n",
       " 'extent': {'spatial': {'bbox': [[-5.70824, 54.78235, -0.07244, 56.99902]]},\n",
       "  'temporal': {'interval': [['2020-01-06T11:16:07.471447Z',\n",
       "     '2020-12-23T11:16:14.663021Z']]}},\n",
       " 'license': 'PDDL-1.0'}"
      ]
     },
     "execution_count": 62,
     "metadata": {},
     "output_type": "execute_result"
    }
   ],
   "source": [
    "collection.to_dict()"
   ]
  },
  {
   "cell_type": "code",
   "execution_count": null,
   "metadata": {},
   "outputs": [],
   "source": []
  }
 ],
 "metadata": {
  "kernelspec": {
   "display_name": "Python 3",
   "language": "python",
   "name": "python3"
  },
  "language_info": {
   "codemirror_mode": {
    "name": "ipython",
    "version": 3
   },
   "file_extension": ".py",
   "mimetype": "text/x-python",
   "name": "python",
   "nbconvert_exporter": "python",
   "pygments_lexer": "ipython3",
   "version": "3.8.3"
  }
 },
 "nbformat": 4,
 "nbformat_minor": 4
}
